{
 "cells": [
  {
   "cell_type": "code",
   "execution_count": 2,
   "id": "27e2325e",
   "metadata": {
    "deletable": false,
    "editable": false
   },
   "outputs": [],
   "source": [
    "# Initialize Otter\n",
    "import otter\n",
    "grader = otter.Notebook(\"lab05.ipynb\")"
   ]
  },
  {
   "cell_type": "markdown",
   "id": "95755b16",
   "metadata": {},
   "source": [
    "# Lab 5: Simulations\n",
    "\n",
    "Welcome to Lab 5! \n",
    "\n",
    "We will go over [iteration](https://www.inferentialthinking.com/chapters/09/2/Iteration.html) and [simulations](https://www.inferentialthinking.com/chapters/09/3/Simulation.html), as well as introduce the concept of [randomness](https://www.inferentialthinking.com/chapters/09/Randomness.html).\n",
    "\n",
    "The data used in this lab will contain salary data and other statistics for basketball players from the 2014-2015 NBA season. This data was collected from the following sports analytic sites: [Basketball Reference](http://www.basketball-reference.com) and [Spotrac](http://www.spotrac.com).\n",
    "\n",
    "**Submission**: Once you’re finished, run all cells besides the last one, select File > Save Notebook, and then execute the final cell. Then submit the downloaded zip file, that includes your notebook,  according to your instructor's directions.\n",
    "\n",
    "First, set up the notebook by running the cell below."
   ]
  },
  {
   "cell_type": "code",
   "execution_count": 3,
   "id": "bc466c9f",
   "metadata": {
    "execution": {
     "iopub.execute_input": "2022-02-21T23:19:47.790137Z",
     "iopub.status.busy": "2022-02-21T23:19:47.789646Z",
     "iopub.status.idle": "2022-02-21T23:19:49.047059Z",
     "shell.execute_reply": "2022-02-21T23:19:49.046532Z"
    }
   },
   "outputs": [],
   "source": [
    "# Run this cell, but please don't change it.\n",
    "\n",
    "# These lines import the Numpy and Datascience modules.\n",
    "import numpy as np\n",
    "from datascience import *\n",
    "\n",
    "# These lines do some fancy plotting magic\n",
    "import matplotlib\n",
    "%matplotlib inline\n",
    "import matplotlib.pyplot as plt\n",
    "plt.style.use('fivethirtyeight')\n",
    "\n",
    "import d8error"
   ]
  },
  {
   "cell_type": "markdown",
   "id": "ea151066",
   "metadata": {},
   "source": [
    "## 1. Nachos and Conditionals"
   ]
  },
  {
   "cell_type": "markdown",
   "id": "02f7c40e",
   "metadata": {},
   "source": [
    "In Python, the boolean data type contains only two unique values:  `True` and `False`. Expressions containing comparison operators such as `<` (less than), `>` (greater than), and `==` (equal to) evaluate to Boolean values. A list of common comparison operators can be found below!\n",
    "\n",
    "<img src=\"comparisons.png\">"
   ]
  },
  {
   "cell_type": "markdown",
   "id": "a548dab9",
   "metadata": {},
   "source": [
    "Run the cell below to see an example of a comparison operator in action."
   ]
  },
  {
   "cell_type": "code",
   "execution_count": 4,
   "id": "ca5d9d83",
   "metadata": {
    "execution": {
     "iopub.execute_input": "2022-02-21T23:19:49.052760Z",
     "iopub.status.busy": "2022-02-21T23:19:49.052281Z",
     "iopub.status.idle": "2022-02-21T23:19:49.055226Z",
     "shell.execute_reply": "2022-02-21T23:19:49.054838Z"
    }
   },
   "outputs": [
    {
     "data": {
      "text/plain": [
       "True"
      ]
     },
     "execution_count": 4,
     "metadata": {},
     "output_type": "execute_result"
    }
   ],
   "source": [
    "3 > (1 + 1)"
   ]
  },
  {
   "cell_type": "markdown",
   "id": "a9bcddca",
   "metadata": {},
   "source": [
    "We can even assign the result of a comparison operation to a variable."
   ]
  },
  {
   "cell_type": "code",
   "execution_count": 5,
   "id": "7a114950",
   "metadata": {
    "execution": {
     "iopub.execute_input": "2022-02-21T23:19:49.059001Z",
     "iopub.status.busy": "2022-02-21T23:19:49.058495Z",
     "iopub.status.idle": "2022-02-21T23:19:49.061060Z",
     "shell.execute_reply": "2022-02-21T23:19:49.060745Z"
    }
   },
   "outputs": [
    {
     "data": {
      "text/plain": [
       "True"
      ]
     },
     "execution_count": 5,
     "metadata": {},
     "output_type": "execute_result"
    }
   ],
   "source": [
    "result = 10 / 2 == 5\n",
    "result"
   ]
  },
  {
   "cell_type": "markdown",
   "id": "6ed21899",
   "metadata": {},
   "source": [
    "Arrays are compatible with comparison operators. The output is an array of boolean values."
   ]
  },
  {
   "cell_type": "code",
   "execution_count": 6,
   "id": "5d9b304a",
   "metadata": {
    "execution": {
     "iopub.execute_input": "2022-02-21T23:19:49.065546Z",
     "iopub.status.busy": "2022-02-21T23:19:49.064895Z",
     "iopub.status.idle": "2022-02-21T23:19:49.067079Z",
     "shell.execute_reply": "2022-02-21T23:19:49.067419Z"
    }
   },
   "outputs": [
    {
     "data": {
      "text/plain": [
       "array([False,  True,  True,  True, False, False], dtype=bool)"
      ]
     },
     "execution_count": 6,
     "metadata": {},
     "output_type": "execute_result"
    }
   ],
   "source": [
    "make_array(1, 5, 7, 8, 3, -1) > 3"
   ]
  },
  {
   "cell_type": "markdown",
   "id": "92fc4e9d",
   "metadata": {},
   "source": [
    "One day, when you come home after a long week, you see a hot bowl of nachos waiting on the dining table! Let's say that whenever you take a nacho from the bowl, it will either have only **cheese**, only **salsa**, **both** cheese and salsa, or **neither** cheese nor salsa (a sad tortilla chip indeed). \n",
    "\n",
    "Let's try and simulate taking nachos from the bowl at random using the function, `np.random.choice(...)`."
   ]
  },
  {
   "cell_type": "markdown",
   "id": "3fcc74c6",
   "metadata": {},
   "source": [
    "### `np.random.choice`\n",
    "\n",
    "`np.random.choice` picks one item at random from the given array. It is equally likely to pick any of the items. Run the cell below several times, and observe how the results change."
   ]
  },
  {
   "cell_type": "code",
   "execution_count": 7,
   "id": "c1be854a",
   "metadata": {
    "execution": {
     "iopub.execute_input": "2022-02-21T23:19:49.072218Z",
     "iopub.status.busy": "2022-02-21T23:19:49.071468Z",
     "iopub.status.idle": "2022-02-21T23:19:49.074678Z",
     "shell.execute_reply": "2022-02-21T23:19:49.074186Z"
    }
   },
   "outputs": [
    {
     "data": {
      "text/plain": [
       "'salsa'"
      ]
     },
     "execution_count": 7,
     "metadata": {},
     "output_type": "execute_result"
    }
   ],
   "source": [
    "nachos = make_array('cheese', 'salsa', 'both', 'neither')\n",
    "np.random.choice(nachos)"
   ]
  },
  {
   "cell_type": "markdown",
   "id": "b8f24762",
   "metadata": {},
   "source": [
    "To repeat this process multiple times, pass in an int `n` as the second argument to return `n` different random choices. By default, `np.random.choice` samples **with replacement** and returns an *array* of items. Sampling **with replacement** means if we sample `n` times, each time, every element has an equal chance of being selected.\n",
    "\n",
    "Run the next cell to see an example of sampling with replacement 10 times from the `nachos` array."
   ]
  },
  {
   "cell_type": "code",
   "execution_count": 8,
   "id": "9412917f",
   "metadata": {
    "execution": {
     "iopub.execute_input": "2022-02-21T23:19:49.078645Z",
     "iopub.status.busy": "2022-02-21T23:19:49.078176Z",
     "iopub.status.idle": "2022-02-21T23:19:49.080701Z",
     "shell.execute_reply": "2022-02-21T23:19:49.081091Z"
    }
   },
   "outputs": [
    {
     "data": {
      "text/plain": [
       "array(['salsa', 'cheese', 'neither', 'cheese', 'cheese', 'cheese',\n",
       "       'cheese', 'both', 'neither', 'salsa'],\n",
       "      dtype='<U7')"
      ]
     },
     "execution_count": 8,
     "metadata": {},
     "output_type": "execute_result"
    }
   ],
   "source": [
    "np.random.choice(nachos, 10)"
   ]
  },
  {
   "cell_type": "markdown",
   "id": "a1e20d45",
   "metadata": {},
   "source": [
    "To count the number of times a certain type of nacho is randomly chosen, we can use `np.count_nonzero`"
   ]
  },
  {
   "cell_type": "markdown",
   "id": "4b042fa0",
   "metadata": {},
   "source": [
    "### `np.count_nonzero`\n",
    "\n",
    "`np.count_nonzero` counts the number of non-zero values that appear in an array. When an array of boolean values are passed through the function, it will count the number of `True` values (remember that in Python, `True` is coded as 1 and `False` is coded as 0.)\n",
    "\n",
    "Run the next cell to see an example that uses `np.count_nonzero`."
   ]
  },
  {
   "cell_type": "code",
   "execution_count": 9,
   "id": "69809e27",
   "metadata": {
    "execution": {
     "iopub.execute_input": "2022-02-21T23:19:49.085247Z",
     "iopub.status.busy": "2022-02-21T23:19:49.084888Z",
     "iopub.status.idle": "2022-02-21T23:19:49.087595Z",
     "shell.execute_reply": "2022-02-21T23:19:49.087143Z"
    }
   },
   "outputs": [
    {
     "data": {
      "text/plain": [
       "3"
      ]
     },
     "execution_count": 9,
     "metadata": {},
     "output_type": "execute_result"
    }
   ],
   "source": [
    "np.count_nonzero(make_array(True, False, False, True, True))"
   ]
  },
  {
   "cell_type": "markdown",
   "id": "2d5837b4",
   "metadata": {},
   "source": [
    "**Question 1.1** Assume we took ten nachos at random, and stored the results in an array called `ten_nachos` as done below. Find the number of nachos with only cheese using code (do not hardcode the answer).  \n",
    "\n",
    "*Hint:* Our solution involves a comparison operator (e.g. `==`, `<`, ...) and the `np.count_nonzero` method.\n"
   ]
  },
  {
   "cell_type": "code",
   "execution_count": 10,
   "id": "a6538d43",
   "metadata": {
    "execution": {
     "iopub.execute_input": "2022-02-21T23:19:49.092368Z",
     "iopub.status.busy": "2022-02-21T23:19:49.091899Z",
     "iopub.status.idle": "2022-02-21T23:19:49.094512Z",
     "shell.execute_reply": "2022-02-21T23:19:49.094855Z"
    },
    "tags": []
   },
   "outputs": [
    {
     "data": {
      "text/plain": [
       "3"
      ]
     },
     "execution_count": 10,
     "metadata": {},
     "output_type": "execute_result"
    }
   ],
   "source": [
    "ten_nachos = make_array('neither', 'cheese', 'both', 'both', 'cheese', 'salsa', 'both', 'neither', 'cheese', 'both')\n",
    "number_cheese = np.count_nonzero(ten_nachos == \"cheese\")\n",
    "number_cheese"
   ]
  },
  {
   "cell_type": "code",
   "execution_count": 11,
   "id": "2cf0ef97",
   "metadata": {
    "deletable": false,
    "editable": false
   },
   "outputs": [
    {
     "data": {
      "text/html": [
       "<p><strong><pre style='display: inline;'>q11</pre></strong> passed! 🍀</p>"
      ],
      "text/plain": [
       "q11 results: All test cases passed!"
      ]
     },
     "execution_count": 11,
     "metadata": {},
     "output_type": "execute_result"
    }
   ],
   "source": [
    "grader.check(\"q11\")"
   ]
  },
  {
   "cell_type": "markdown",
   "id": "56caeb41",
   "metadata": {},
   "source": [
    "**Conditional Statements**\n",
    "\n",
    "A conditional statement is a multi-line statement that allows Python to choose among different alternatives based on the truth value of an expression.\n",
    "\n",
    "Here is a basic example.\n",
    "\n",
    "```\n",
    "def sign(x):\n",
    "    if x > 0:\n",
    "        return 'Positive'\n",
    "    else:\n",
    "        return 'Negative'\n",
    "```\n",
    "\n",
    "If the input `x` is greater than `0`, we return the string `'Positive'`. Otherwise, we return `'Negative'`.\n",
    "\n",
    "If we want to test multiple conditions at once, we use the following general format.\n",
    "\n",
    "```\n",
    "if <if expression>:\n",
    "    <if body>\n",
    "elif <elif expression 0>:\n",
    "    <elif body 0>\n",
    "elif <elif expression 1>:\n",
    "    <elif body 1>\n",
    "...\n",
    "else:\n",
    "    <else body>\n",
    "```\n",
    "\n",
    "Only the body for the first conditional expression that is true will be evaluated. Each `if` and `elif` expression is evaluated and considered in order, starting at the top. `elif` can only be used if an `if` clause precedes it. As soon as a true value is found, the corresponding body is executed, and the rest of the conditional statement is skipped. If none of the `if` or `elif` expressions are true, then the `else body` is executed. \n",
    "\n",
    "For more examples and explanation, refer to the section on conditional statements [here](https://inferentialthinking.com/chapters/09/1/Conditional_Statements.html)."
   ]
  },
  {
   "cell_type": "markdown",
   "id": "4de9f6d0",
   "metadata": {},
   "source": [
    "**Question 1.2** Complete the following conditional statement so that the string `'More please'` is assigned to the variable `say_please` if the number of nachos with cheese in `ten_nachos` is less than `5`. Use the if statement to do this (do not directly reassign the variable `say_please`). \n",
    "\n",
    "*Hint*: You should be using `number_cheese` from Question 1.\n"
   ]
  },
  {
   "cell_type": "code",
   "execution_count": 12,
   "id": "d761420d",
   "metadata": {
    "execution": {
     "iopub.execute_input": "2022-02-21T23:19:49.105336Z",
     "iopub.status.busy": "2022-02-21T23:19:49.104723Z",
     "iopub.status.idle": "2022-02-21T23:19:49.108021Z",
     "shell.execute_reply": "2022-02-21T23:19:49.107597Z"
    },
    "for_assignment_type": "student",
    "tags": []
   },
   "outputs": [
    {
     "data": {
      "text/plain": [
       "'More please'"
      ]
     },
     "execution_count": 12,
     "metadata": {},
     "output_type": "execute_result"
    }
   ],
   "source": [
    "say_please = '?'\n",
    "\n",
    "if number_cheese < 5:\n",
    "    say_please = 'More please'\n",
    "    \n",
    "say_please"
   ]
  },
  {
   "cell_type": "code",
   "execution_count": 13,
   "id": "1f6ab5b4",
   "metadata": {
    "deletable": false,
    "editable": false
   },
   "outputs": [
    {
     "data": {
      "text/html": [
       "<p><strong><pre style='display: inline;'>q12</pre></strong> passed! 🚀</p>"
      ],
      "text/plain": [
       "q12 results: All test cases passed!"
      ]
     },
     "execution_count": 13,
     "metadata": {},
     "output_type": "execute_result"
    }
   ],
   "source": [
    "grader.check(\"q12\")"
   ]
  },
  {
   "cell_type": "markdown",
   "id": "9a642481",
   "metadata": {},
   "source": [
    "**Question 1.3** Write a function called `nacho_reaction` that returns a reaction (as a string) based on the type of nacho passed in as an argument. Use the table below to match the nacho type to the appropriate reaction.\n",
    "\n",
    "<img src=\"nacho_reactions.png\">\n",
    "\n",
    "*Hint:* If you're failing the test, double check the spelling of your reactions.\n"
   ]
  },
  {
   "cell_type": "code",
   "execution_count": 14,
   "id": "a9e745d1",
   "metadata": {
    "execution": {
     "iopub.execute_input": "2022-02-21T23:19:49.140322Z",
     "iopub.status.busy": "2022-02-21T23:19:49.139788Z",
     "iopub.status.idle": "2022-02-21T23:19:49.142262Z",
     "shell.execute_reply": "2022-02-21T23:19:49.142597Z"
    },
    "for_assignment_type": "student",
    "tags": []
   },
   "outputs": [
    {
     "data": {
      "text/plain": [
       "'Spicy!'"
      ]
     },
     "execution_count": 14,
     "metadata": {},
     "output_type": "execute_result"
    }
   ],
   "source": [
    "def nacho_reaction(nacho):\n",
    "    if nacho == \"cheese\":\n",
    "        return \"Cheesy!\"\n",
    "    elif nacho == \"salsa\":\n",
    "        return \"Spicy!\"\n",
    "    elif nacho == \"both\":\n",
    "        return \"Wow!\"\n",
    "    elif nacho == \"neither\":\n",
    "        return \"Meh.\"\n",
    "\n",
    "spicy_nacho = nacho_reaction('salsa')\n",
    "spicy_nacho"
   ]
  },
  {
   "cell_type": "code",
   "execution_count": 15,
   "id": "ebbf4452",
   "metadata": {
    "deletable": false,
    "editable": false
   },
   "outputs": [
    {
     "data": {
      "text/html": [
       "<p><strong><pre style='display: inline;'>q13</pre></strong> passed! 🌈</p>"
      ],
      "text/plain": [
       "q13 results: All test cases passed!"
      ]
     },
     "execution_count": 15,
     "metadata": {},
     "output_type": "execute_result"
    }
   ],
   "source": [
    "grader.check(\"q13\")"
   ]
  },
  {
   "cell_type": "markdown",
   "id": "8776980a",
   "metadata": {},
   "source": [
    "**Question 1.4** Create a table `ten_nachos_reactions` that consists of the nachos in `ten_nachos` as well as the reactions for each of those nachos. The columns should be called `Nachos` and `Reactions`.\n",
    "\n",
    "*Hint:* Use the `apply` method. \n"
   ]
  },
  {
   "cell_type": "code",
   "execution_count": 16,
   "id": "e522c781",
   "metadata": {
    "execution": {
     "iopub.execute_input": "2022-02-21T23:19:49.175596Z",
     "iopub.status.busy": "2022-02-21T23:19:49.171421Z",
     "iopub.status.idle": "2022-02-21T23:19:49.178475Z",
     "shell.execute_reply": "2022-02-21T23:19:49.178097Z"
    },
    "for_assignment_type": "student",
    "tags": []
   },
   "outputs": [
    {
     "data": {
      "text/html": [
       "<table border=\"1\" class=\"dataframe\">\n",
       "    <thead>\n",
       "        <tr>\n",
       "            <th>Nachos</th> <th>Reactions</th>\n",
       "        </tr>\n",
       "    </thead>\n",
       "    <tbody>\n",
       "        <tr>\n",
       "            <td>neither</td> <td>Meh.     </td>\n",
       "        </tr>\n",
       "        <tr>\n",
       "            <td>cheese </td> <td>Cheesy!  </td>\n",
       "        </tr>\n",
       "        <tr>\n",
       "            <td>both   </td> <td>Wow!     </td>\n",
       "        </tr>\n",
       "        <tr>\n",
       "            <td>both   </td> <td>Wow!     </td>\n",
       "        </tr>\n",
       "        <tr>\n",
       "            <td>cheese </td> <td>Cheesy!  </td>\n",
       "        </tr>\n",
       "        <tr>\n",
       "            <td>salsa  </td> <td>Spicy!   </td>\n",
       "        </tr>\n",
       "        <tr>\n",
       "            <td>both   </td> <td>Wow!     </td>\n",
       "        </tr>\n",
       "        <tr>\n",
       "            <td>neither</td> <td>Meh.     </td>\n",
       "        </tr>\n",
       "        <tr>\n",
       "            <td>cheese </td> <td>Cheesy!  </td>\n",
       "        </tr>\n",
       "        <tr>\n",
       "            <td>both   </td> <td>Wow!     </td>\n",
       "        </tr>\n",
       "    </tbody>\n",
       "</table>"
      ],
      "text/plain": [
       "Nachos  | Reactions\n",
       "neither | Meh.\n",
       "cheese  | Cheesy!\n",
       "both    | Wow!\n",
       "both    | Wow!\n",
       "cheese  | Cheesy!\n",
       "salsa   | Spicy!\n",
       "both    | Wow!\n",
       "neither | Meh.\n",
       "cheese  | Cheesy!\n",
       "both    | Wow!"
      ]
     },
     "execution_count": 16,
     "metadata": {},
     "output_type": "execute_result"
    }
   ],
   "source": [
    "ten_nachos_tbl = Table().with_column('Nachos', ten_nachos)\n",
    "ten_nachos_reactions = ten_nachos_tbl.with_columns(\"Reactions\", ten_nachos_tbl.apply(nacho_reaction, \"Nachos\"))\n",
    "ten_nachos_reactions"
   ]
  },
  {
   "cell_type": "code",
   "execution_count": 17,
   "id": "a5515627",
   "metadata": {
    "deletable": false,
    "editable": false
   },
   "outputs": [
    {
     "data": {
      "text/html": [
       "<p><strong><pre style='display: inline;'>q14</pre></strong> passed! 🙌</p>"
      ],
      "text/plain": [
       "q14 results: All test cases passed!"
      ]
     },
     "execution_count": 17,
     "metadata": {},
     "output_type": "execute_result"
    }
   ],
   "source": [
    "grader.check(\"q14\")"
   ]
  },
  {
   "cell_type": "markdown",
   "id": "2c513d56",
   "metadata": {},
   "source": [
    "**Question 1.5** Using code, find the number of 'Wow!' reactions for the nachos in `ten_nachos_reactions`.\n"
   ]
  },
  {
   "cell_type": "code",
   "execution_count": 18,
   "id": "18828b83",
   "metadata": {
    "execution": {
     "iopub.execute_input": "2022-02-21T23:19:49.191131Z",
     "iopub.status.busy": "2022-02-21T23:19:49.190456Z",
     "iopub.status.idle": "2022-02-21T23:19:49.229417Z",
     "shell.execute_reply": "2022-02-21T23:19:49.192962Z"
    },
    "tags": []
   },
   "outputs": [
    {
     "data": {
      "text/plain": [
       "4"
      ]
     },
     "execution_count": 18,
     "metadata": {},
     "output_type": "execute_result"
    }
   ],
   "source": [
    "number_wow_reactions = ten_nachos_reactions.where(\"Reactions\", are.equal_to(\"Wow!\")).num_rows\n",
    "number_wow_reactions"
   ]
  },
  {
   "cell_type": "code",
   "execution_count": 19,
   "id": "dd4e29d1",
   "metadata": {
    "deletable": false,
    "editable": false
   },
   "outputs": [
    {
     "data": {
      "text/html": [
       "<p><strong><pre style='display: inline;'>q15</pre></strong> passed! 🚀</p>"
      ],
      "text/plain": [
       "q15 results: All test cases passed!"
      ]
     },
     "execution_count": 19,
     "metadata": {},
     "output_type": "execute_result"
    }
   ],
   "source": [
    "grader.check(\"q15\")"
   ]
  },
  {
   "cell_type": "markdown",
   "id": "1f340571",
   "metadata": {},
   "source": [
    "## 2. Simulations and For Loops\n",
    "Using a `for` statement, we can perform a task multiple times. This is known as iteration. The general structure of a for loop is:\n",
    "\n",
    "`for <placeholder> in <array>:` followed by indented lines of code that are repeated for each element of the `array` being iterated over. You can read more about for loops [here](https://www.inferentialthinking.com/chapters/09/2/Iteration.html). \n",
    "\n",
    "**NOTE:** We often use `i` as the `placeholder` in our class examples, but you could name it anything! Some examples can be found below."
   ]
  },
  {
   "cell_type": "markdown",
   "id": "4ac3ff2b",
   "metadata": {},
   "source": [
    "One use of iteration is to loop through a set of values. For instance, we can print out all of the colors of the rainbow."
   ]
  },
  {
   "cell_type": "code",
   "execution_count": 20,
   "id": "04efdaf0",
   "metadata": {
    "execution": {
     "iopub.execute_input": "2022-02-21T23:19:49.247295Z",
     "iopub.status.busy": "2022-02-21T23:19:49.246669Z",
     "iopub.status.idle": "2022-02-21T23:19:49.249924Z",
     "shell.execute_reply": "2022-02-21T23:19:49.249569Z"
    }
   },
   "outputs": [
    {
     "name": "stdout",
     "output_type": "stream",
     "text": [
      "red\n",
      "orange\n",
      "yellow\n",
      "green\n",
      "blue\n",
      "indigo\n",
      "violet\n"
     ]
    }
   ],
   "source": [
    "rainbow = make_array(\"red\", \"orange\", \"yellow\", \"green\", \"blue\", \"indigo\", \"violet\")\n",
    "\n",
    "for color in rainbow:\n",
    "    print(color)"
   ]
  },
  {
   "cell_type": "markdown",
   "id": "049c0064",
   "metadata": {},
   "source": [
    "We can see that the indented part of the `for` loop, known as the body, is executed once for each item in `rainbow`. The name `color` is assigned to the next value in `rainbow` at the start of each iteration. Note that the name `color` is arbitrary; we could easily have named it something else. The important thing is we stay consistent throughout the `for` loop. "
   ]
  },
  {
   "cell_type": "code",
   "execution_count": 21,
   "id": "3de77afb",
   "metadata": {
    "execution": {
     "iopub.execute_input": "2022-02-21T23:19:49.253642Z",
     "iopub.status.busy": "2022-02-21T23:19:49.253048Z",
     "iopub.status.idle": "2022-02-21T23:19:49.255553Z",
     "shell.execute_reply": "2022-02-21T23:19:49.255841Z"
    }
   },
   "outputs": [
    {
     "name": "stdout",
     "output_type": "stream",
     "text": [
      "red\n",
      "orange\n",
      "yellow\n",
      "green\n",
      "blue\n",
      "indigo\n",
      "violet\n"
     ]
    }
   ],
   "source": [
    "for another_name in rainbow:\n",
    "    print(another_name)"
   ]
  },
  {
   "cell_type": "markdown",
   "id": "82d7e2ea",
   "metadata": {},
   "source": [
    "In general, however, we would like the variable name to be somewhat informative. "
   ]
  },
  {
   "cell_type": "markdown",
   "id": "acc24e57",
   "metadata": {},
   "source": [
    "**Question 2.1** In the following cell, we've loaded the text of _Pride and Prejudice_ by Jane Austen, split it into individual words, and stored these words in an array `p_and_p_words`. Using a `for` loop, assign `longer_than_five` to the number of words in the novel that are more than 5 letters long.\n",
    "\n",
    "*Hint*: You can find the number of letters in a word with the `len` function.\n",
    "\n",
    "*Hint*: How can you use `longer_than_five` to keep track of the number of words that are more than five letters long?\n"
   ]
  },
  {
   "cell_type": "code",
   "execution_count": 22,
   "id": "605ee8b9",
   "metadata": {
    "execution": {
     "iopub.execute_input": "2022-02-21T23:19:49.260303Z",
     "iopub.status.busy": "2022-02-21T23:19:49.259639Z",
     "iopub.status.idle": "2022-02-21T23:19:49.378270Z",
     "shell.execute_reply": "2022-02-21T23:19:49.378640Z"
    },
    "for_assignment_type": "student",
    "tags": []
   },
   "outputs": [
    {
     "data": {
      "text/plain": [
       "35453"
      ]
     },
     "execution_count": 22,
     "metadata": {},
     "output_type": "execute_result"
    }
   ],
   "source": [
    "austen_string = open('Austen_PrideAndPrejudice.txt', encoding='utf-8').read()\n",
    "p_and_p_words = np.array(austen_string.split())\n",
    "\n",
    "#121793 words total\n",
    "\n",
    "longer_than_five = 0\n",
    "\n",
    "for w in p_and_p_words:\n",
    "    if len(w) > 5:\n",
    "        longer_than_five = longer_than_five + 1\n",
    "longer_than_five"
   ]
  },
  {
   "cell_type": "code",
   "execution_count": 23,
   "id": "c4a8e861",
   "metadata": {
    "deletable": false,
    "editable": false
   },
   "outputs": [
    {
     "data": {
      "text/html": [
       "<p><strong><pre style='display: inline;'>q21</pre></strong> passed! 💯</p>"
      ],
      "text/plain": [
       "q21 results: All test cases passed!"
      ]
     },
     "execution_count": 23,
     "metadata": {},
     "output_type": "execute_result"
    }
   ],
   "source": [
    "grader.check(\"q21\")"
   ]
  },
  {
   "cell_type": "markdown",
   "id": "f8ad0c2f",
   "metadata": {},
   "source": [
    "Another way we can use `for` loops is to repeat lines of code many times. Recall the structure of a `for` loop: \n",
    "\n",
    "`for <placeholder> in <array>:` followed by indented lines of code that are repeated for each element of the array being iterated over. \n",
    "\n",
    "Sometimes, we don't care about what the value of the placeholder is. We instead take advantage of the fact that the `for` loop will repeat as many times as the length of our array. In the following cell, we iterate through an array of length 5 and print out \"Hello, world!\" in each iteration. "
   ]
  },
  {
   "cell_type": "code",
   "execution_count": 24,
   "id": "5285b65d",
   "metadata": {
    "execution": {
     "iopub.execute_input": "2022-02-21T23:19:49.389367Z",
     "iopub.status.busy": "2022-02-21T23:19:49.388810Z",
     "iopub.status.idle": "2022-02-21T23:19:49.391999Z",
     "shell.execute_reply": "2022-02-21T23:19:49.391705Z"
    }
   },
   "outputs": [
    {
     "name": "stdout",
     "output_type": "stream",
     "text": [
      "Hello, world!\n",
      "Hello, world!\n",
      "Hello, world!\n",
      "Hello, world!\n",
      "Hello, world!\n"
     ]
    }
   ],
   "source": [
    "for i in np.arange(5):\n",
    "    print(\"Hello, world!\")"
   ]
  },
  {
   "cell_type": "markdown",
   "id": "3a982e3a",
   "metadata": {},
   "source": [
    "**Question 2.2** Using a simulation with 10,000 trials, assign `num_different` to the number of times, in 10,000 trials, that two words picked uniformly at random (with replacement) from Pride and Prejudice have different lengths. \n",
    "\n",
    "*Hint 1*: What function did we use in section 1 to sample at random with replacement from an array? \n",
    "\n",
    "*Hint 2*: Remember that `!=` checks for non-equality between two items.\n"
   ]
  },
  {
   "cell_type": "code",
   "execution_count": 25,
   "id": "59ebfc70",
   "metadata": {
    "execution": {
     "iopub.execute_input": "2022-02-21T23:19:49.429852Z",
     "iopub.status.busy": "2022-02-21T23:19:49.410943Z",
     "iopub.status.idle": "2022-02-21T23:19:49.589291Z",
     "shell.execute_reply": "2022-02-21T23:19:49.588900Z"
    },
    "for_assignment_type": "student",
    "tags": []
   },
   "outputs": [
    {
     "data": {
      "text/plain": [
       "8638"
      ]
     },
     "execution_count": 25,
     "metadata": {},
     "output_type": "execute_result"
    }
   ],
   "source": [
    "trials = 10000\n",
    "num_different = 0\n",
    "\n",
    "\n",
    "for i in np.arange(10000):\n",
    "    x = np.random.choice(p_and_p_words)\n",
    "    y = np.random.choice(p_and_p_words)\n",
    "    if len(x) != len(y):\n",
    "        num_different = num_different + 1\n",
    "        \n",
    "        \n",
    "num_different"
   ]
  },
  {
   "cell_type": "code",
   "execution_count": 26,
   "id": "5ecc6cab",
   "metadata": {
    "deletable": false,
    "editable": false
   },
   "outputs": [
    {
     "data": {
      "text/html": [
       "<p><strong><pre style='display: inline;'>q22</pre></strong> passed! 🎉</p>"
      ],
      "text/plain": [
       "q22 results: All test cases passed!"
      ]
     },
     "execution_count": 26,
     "metadata": {},
     "output_type": "execute_result"
    }
   ],
   "source": [
    "grader.check(\"q22\")"
   ]
  },
  {
   "cell_type": "markdown",
   "id": "581b7f7a",
   "metadata": {},
   "source": [
    "## 3. Sampling Basketball Data\n",
    "\n",
    "We will now introduce the topic of sampling, which we’ll be discussing in more depth in this week’s lectures. We’ll guide you through this code, but if you wish to read more about different kinds of samples before attempting this question, you can check out [section 10 of the textbook](https://www.inferentialthinking.com/chapters/10/Sampling_and_Empirical_Distributions.html).\n",
    "\n",
    "Run the cell below to load player and salary data that we will use for our sampling. "
   ]
  },
  {
   "cell_type": "code",
   "execution_count": 27,
   "id": "6e8102fd",
   "metadata": {
    "execution": {
     "iopub.execute_input": "2022-02-21T23:19:49.600112Z",
     "iopub.status.busy": "2022-02-21T23:19:49.597997Z",
     "iopub.status.idle": "2022-02-21T23:19:49.641680Z",
     "shell.execute_reply": "2022-02-21T23:19:49.642013Z"
    }
   },
   "outputs": [
    {
     "data": {
      "text/html": [
       "<table border=\"1\" class=\"dataframe\">\n",
       "    <thead>\n",
       "        <tr>\n",
       "            <th>Name</th> <th>Age</th> <th>Team</th> <th>Games</th> <th>Rebounds</th> <th>Assists</th> <th>Steals</th> <th>Blocks</th> <th>Turnovers</th> <th>Points</th>\n",
       "        </tr>\n",
       "    </thead>\n",
       "    <tbody>\n",
       "        <tr>\n",
       "            <td>James Harden </td> <td>25  </td> <td>HOU </td> <td>81   </td> <td>459     </td> <td>565    </td> <td>154   </td> <td>60    </td> <td>321      </td> <td>2217  </td>\n",
       "        </tr>\n",
       "        <tr>\n",
       "            <td>Chris Paul   </td> <td>29  </td> <td>LAC </td> <td>82   </td> <td>376     </td> <td>838    </td> <td>156   </td> <td>15    </td> <td>190      </td> <td>1564  </td>\n",
       "        </tr>\n",
       "        <tr>\n",
       "            <td>Stephen Curry</td> <td>26  </td> <td>GSW </td> <td>80   </td> <td>341     </td> <td>619    </td> <td>163   </td> <td>16    </td> <td>249      </td> <td>1900  </td>\n",
       "        </tr>\n",
       "    </tbody>\n",
       "</table>\n",
       "<p>... (489 rows omitted)</p>"
      ],
      "text/plain": [
       "<IPython.core.display.HTML object>"
      ]
     },
     "metadata": {},
     "output_type": "display_data"
    },
    {
     "data": {
      "text/html": [
       "<table border=\"1\" class=\"dataframe\">\n",
       "    <thead>\n",
       "        <tr>\n",
       "            <th>PlayerName</th> <th>Salary</th>\n",
       "        </tr>\n",
       "    </thead>\n",
       "    <tbody>\n",
       "        <tr>\n",
       "            <td>Kobe Bryant      </td> <td>23500000</td>\n",
       "        </tr>\n",
       "        <tr>\n",
       "            <td>Amar'e Stoudemire</td> <td>23410988</td>\n",
       "        </tr>\n",
       "        <tr>\n",
       "            <td>Joe Johnson      </td> <td>23180790</td>\n",
       "        </tr>\n",
       "    </tbody>\n",
       "</table>\n",
       "<p>... (489 rows omitted)</p>"
      ],
      "text/plain": [
       "<IPython.core.display.HTML object>"
      ]
     },
     "metadata": {},
     "output_type": "display_data"
    },
    {
     "data": {
      "text/html": [
       "<table border=\"1\" class=\"dataframe\">\n",
       "    <thead>\n",
       "        <tr>\n",
       "            <th>PlayerName</th> <th>Salary</th> <th>Age</th> <th>Team</th> <th>Games</th> <th>Rebounds</th> <th>Assists</th> <th>Steals</th> <th>Blocks</th> <th>Turnovers</th> <th>Points</th>\n",
       "        </tr>\n",
       "    </thead>\n",
       "    <tbody>\n",
       "        <tr>\n",
       "            <td>A.J. Price  </td> <td>62552  </td> <td>28  </td> <td>TOT </td> <td>26   </td> <td>32      </td> <td>46     </td> <td>7     </td> <td>0     </td> <td>14       </td> <td>133   </td>\n",
       "        </tr>\n",
       "        <tr>\n",
       "            <td>Aaron Brooks</td> <td>1145685</td> <td>30  </td> <td>CHI </td> <td>82   </td> <td>166     </td> <td>261    </td> <td>54    </td> <td>15    </td> <td>157      </td> <td>954   </td>\n",
       "        </tr>\n",
       "        <tr>\n",
       "            <td>Aaron Gordon</td> <td>3992040</td> <td>19  </td> <td>ORL </td> <td>47   </td> <td>169     </td> <td>33     </td> <td>21    </td> <td>22    </td> <td>38       </td> <td>243   </td>\n",
       "        </tr>\n",
       "    </tbody>\n",
       "</table>\n",
       "<p>... (489 rows omitted)</p>"
      ],
      "text/plain": [
       "<IPython.core.display.HTML object>"
      ]
     },
     "metadata": {},
     "output_type": "display_data"
    }
   ],
   "source": [
    "player_data = Table().read_table(\"player_data.csv\")\n",
    "salary_data = Table().read_table(\"salary_data.csv\")\n",
    "full_data = salary_data.join(\"PlayerName\", player_data, \"Name\")\n",
    "\n",
    "# The show method immediately displays the contents of a table. \n",
    "# This way, we can display the top of two tables using a single cell.\n",
    "player_data.show(3)\n",
    "salary_data.show(3)\n",
    "full_data.show(3)"
   ]
  },
  {
   "cell_type": "markdown",
   "id": "0815e84c",
   "metadata": {},
   "source": [
    "Rather than getting data on every player (as in the tables loaded above), imagine that we had gotten data on only a smaller subset of the players. For 492 players, it's not so unreasonable to expect to see all the data, but usually we aren't so lucky. \n",
    "\n",
    "If we want to make estimates about a certain numerical property of the population, we may have to come up with these estimates based only on a smaller sample. The numerical property of the population is known as a parameter, and the estimate is known as a statistic (e.g. the mean or median). Whether these estimates are useful or not often depends on how the sample was gathered. We have prepared some example sample datasets to see how they compare to the full NBA dataset. Later we'll ask you to create your own samples to see how they behave."
   ]
  },
  {
   "cell_type": "markdown",
   "id": "a35a9f59",
   "metadata": {},
   "source": [
    "To save typing and increase the clarity of your code, we will package the analysis code into a few functions. This will be useful in the rest of the lab as we will repeatedly need to create histograms and collect summary statistics from that data."
   ]
  },
  {
   "cell_type": "markdown",
   "id": "070f2887",
   "metadata": {},
   "source": [
    "We've defined the `histograms` function below, which takes a table with columns `Age` and `Salary` and draws a histogram for each one. It uses bin widths of 1 year for `Age` and $1,000,000 for `Salary`."
   ]
  },
  {
   "cell_type": "code",
   "execution_count": 28,
   "id": "c6bc950b",
   "metadata": {
    "execution": {
     "iopub.execute_input": "2022-02-21T23:19:49.666628Z",
     "iopub.status.busy": "2022-02-21T23:19:49.660288Z",
     "iopub.status.idle": "2022-02-21T23:19:50.152374Z",
     "shell.execute_reply": "2022-02-21T23:19:50.152689Z"
    },
    "scrolled": true
   },
   "outputs": [
    {
     "name": "stdout",
     "output_type": "stream",
     "text": [
      "Two histograms should be displayed below\n"
     ]
    },
    {
     "data": {
      "image/png": "[encoded data removed]",
      "text/plain": [
       "<Figure size 600x400 with 1 Axes>"
      ]
     },
     "metadata": {},
     "output_type": "display_data"
    },
    {
     "data": {
      "image/png": "[encoded data removed]",
      "text/plain": [
       "<Figure size 600x400 with 1 Axes>"
      ]
     },
     "metadata": {},
     "output_type": "display_data"
    }
   ],
   "source": [
    "def histograms(t):\n",
    "    ages = t.column('Age')\n",
    "    salaries = t.column('Salary')/1000000\n",
    "    t1 = t.drop('Salary').with_column('Salary', salaries)\n",
    "    age_bins = np.arange(min(ages), max(ages) + 2, 1) \n",
    "    salary_bins = np.arange(min(salaries), max(salaries) + 1, 1)\n",
    "    t1.hist('Age', bins=age_bins, unit='year')\n",
    "    plt.title('Age distribution')\n",
    "    t1.hist('Salary', bins=salary_bins, unit='million dollars')\n",
    "    plt.title('Salary distribution') \n",
    "    \n",
    "histograms(full_data)\n",
    "print('Two histograms should be displayed below')"
   ]
  },
  {
   "cell_type": "markdown",
   "id": "ba50a751",
   "metadata": {},
   "source": [
    "**Question 3.1**. Create a function called `compute_statistics` that takes a table containing an \"Age\" column and a \"Salary\" column and:\n",
    "- Draws a histogram of ages\n",
    "- Draws a histogram of salaries\n",
    "- Returns a two-element array containing the average age and average salary (in that order)\n",
    "\n",
    "You can call the `histograms` function to draw the histograms! \n",
    "\n",
    "*Note:* More charts will be displayed when running the test cell. Please feel free to ignore the charts.\n"
   ]
  },
  {
   "cell_type": "code",
   "execution_count": 68,
   "id": "bd3a02ca",
   "metadata": {
    "execution": {
     "iopub.execute_input": "2022-02-21T23:19:50.171470Z",
     "iopub.status.busy": "2022-02-21T23:19:50.170872Z",
     "iopub.status.idle": "2022-02-21T23:19:50.637413Z",
     "shell.execute_reply": "2022-02-21T23:19:50.637772Z"
    },
    "tags": []
   },
   "outputs": [
    {
     "data": {
      "text/plain": [
       "array([  2.65365854e+01,   4.26977577e+06])"
      ]
     },
     "execution_count": 68,
     "metadata": {},
     "output_type": "execute_result"
    },
    {
     "data": {
      "image/png": "[encoded data removed]",
      "text/plain": [
       "<Figure size 600x400 with 1 Axes>"
      ]
     },
     "metadata": {},
     "output_type": "display_data"
    },
    {
     "data": {
      "image/png": "[encoded data removed]",
      "text/plain": [
       "<Figure size 600x400 with 1 Axes>"
      ]
     },
     "metadata": {},
     "output_type": "display_data"
    }
   ],
   "source": [
    "def compute_statistics(age_and_salary_data): #arg = a table w/ Age and Column\n",
    "    salary = age_and_salary_data.select(\"Salary\")\n",
    "    age = age_and_salary_data.select(\"Age\")\n",
    "    #histograms(salary) why cant i pass a table to draw hist function?\n",
    "    salary.hist(\"Salary\")\n",
    "    age.hist(\"Age\")\n",
    "    averageSalary = np.average(salary.column(\"Salary\")) #why in decimal form?\n",
    "    averageAge = np.average(age.column(\"Age\")) #why in decimal form?\n",
    "    return make_array(averageAge, averageSalary)\n",
    "    \n",
    "\n",
    "full_stats = compute_statistics(full_data)\n",
    "full_stats"
   ]
  },
  {
   "cell_type": "code",
   "execution_count": 69,
   "id": "2e8949c6",
   "metadata": {
    "deletable": false,
    "editable": false
   },
   "outputs": [
    {
     "data": {
      "text/html": [
       "<p><strong><pre style='display: inline;'>q31</pre></strong> passed! 🚀</p>"
      ],
      "text/plain": [
       "q31 results: All test cases passed!"
      ]
     },
     "execution_count": 69,
     "metadata": {},
     "output_type": "execute_result"
    }
   ],
   "source": [
    "grader.check(\"q31\")"
   ]
  },
  {
   "cell_type": "markdown",
   "id": "4d802620",
   "metadata": {},
   "source": [
    "### Simple random sampling\n",
    "A more justifiable approach is to sample uniformly at random from the players.  In a **simple random sample (SRS) without replacement**, we ensure that each player is selected at most once. Imagine writing down each player's name on a card, putting the cards in an box, and shuffling the box.  Then, pull out cards one by one and set them aside, stopping when the specified sample size is reached."
   ]
  },
  {
   "cell_type": "markdown",
   "id": "2c188fef",
   "metadata": {},
   "source": [
    "### Producing simple random samples\n",
    "Sometimes, it’s useful to take random samples even when we have the data for the whole population. It helps us understand sampling accuracy.\n",
    "\n",
    "### `sample`\n",
    "\n",
    "The table method `sample` produces a random sample from the table. By default, it draws at random **with replacement** from the rows of a table. Sampling with replacement means for any row selected randomly, there is a chance it can be selected again if we sample multiple times. `Sample` takes in the sample size as its argument and returns a **table** with only the rows that were selected. \n",
    "\n",
    "Run the cell below to see an example call to `sample()` with a sample size of 5, with replacement."
   ]
  },
  {
   "cell_type": "code",
   "execution_count": 62,
   "id": "4034f2ab",
   "metadata": {
    "execution": {
     "iopub.execute_input": "2022-02-21T23:19:51.053018Z",
     "iopub.status.busy": "2022-02-21T23:19:51.052257Z",
     "iopub.status.idle": "2022-02-21T23:19:51.056018Z",
     "shell.execute_reply": "2022-02-21T23:19:51.055647Z"
    }
   },
   "outputs": [
    {
     "data": {
      "text/html": [
       "<table border=\"1\" class=\"dataframe\">\n",
       "    <thead>\n",
       "        <tr>\n",
       "            <th>PlayerName</th> <th>Salary</th>\n",
       "        </tr>\n",
       "    </thead>\n",
       "    <tbody>\n",
       "        <tr>\n",
       "            <td>Derrick Favors</td> <td>12950000</td>\n",
       "        </tr>\n",
       "        <tr>\n",
       "            <td>Kyle Lowry    </td> <td>12000000</td>\n",
       "        </tr>\n",
       "        <tr>\n",
       "            <td>Dwight Powell </td> <td>507336  </td>\n",
       "        </tr>\n",
       "        <tr>\n",
       "            <td>Nikola Vucevic</td> <td>2751260 </td>\n",
       "        </tr>\n",
       "        <tr>\n",
       "            <td>Danny Granger </td> <td>2077000 </td>\n",
       "        </tr>\n",
       "    </tbody>\n",
       "</table>"
      ],
      "text/plain": [
       "PlayerName     | Salary\n",
       "Derrick Favors | 12950000\n",
       "Kyle Lowry     | 12000000\n",
       "Dwight Powell  | 507336\n",
       "Nikola Vucevic | 2751260\n",
       "Danny Granger  | 2077000"
      ]
     },
     "execution_count": 62,
     "metadata": {},
     "output_type": "execute_result"
    }
   ],
   "source": [
    "# Just run this cell\n",
    "\n",
    "salary_data.sample(5)"
   ]
  },
  {
   "cell_type": "markdown",
   "id": "3430e2ac",
   "metadata": {},
   "source": [
    "The optional argument `with_replacement=False` can be passed through `sample()` to specify that the sample should be drawn without replacement.\n",
    "\n",
    "Run the cell below to see an example call to `sample()` with a sample size of 5, without replacement."
   ]
  },
  {
   "cell_type": "code",
   "execution_count": 63,
   "id": "b34c87ea",
   "metadata": {
    "execution": {
     "iopub.execute_input": "2022-02-21T23:19:51.130832Z",
     "iopub.status.busy": "2022-02-21T23:19:51.130105Z",
     "iopub.status.idle": "2022-02-21T23:19:51.134273Z",
     "shell.execute_reply": "2022-02-21T23:19:51.133800Z"
    }
   },
   "outputs": [
    {
     "data": {
      "text/html": [
       "<table border=\"1\" class=\"dataframe\">\n",
       "    <thead>\n",
       "        <tr>\n",
       "            <th>PlayerName</th> <th>Salary</th>\n",
       "        </tr>\n",
       "    </thead>\n",
       "    <tbody>\n",
       "        <tr>\n",
       "            <td>Ryan Kelly     </td> <td>1650000</td>\n",
       "        </tr>\n",
       "        <tr>\n",
       "            <td>Nikola Vucevic </td> <td>2751260</td>\n",
       "        </tr>\n",
       "        <tr>\n",
       "            <td>Trey Burke     </td> <td>2548560</td>\n",
       "        </tr>\n",
       "        <tr>\n",
       "            <td>Wilson Chandler</td> <td>6757913</td>\n",
       "        </tr>\n",
       "        <tr>\n",
       "            <td>Thaddeus Young </td> <td>9660869</td>\n",
       "        </tr>\n",
       "    </tbody>\n",
       "</table>"
      ],
      "text/plain": [
       "PlayerName      | Salary\n",
       "Ryan Kelly      | 1650000\n",
       "Nikola Vucevic  | 2751260\n",
       "Trey Burke      | 2548560\n",
       "Wilson Chandler | 6757913\n",
       "Thaddeus Young  | 9660869"
      ]
     },
     "execution_count": 63,
     "metadata": {},
     "output_type": "execute_result"
    }
   ],
   "source": [
    "# Just run this cell\n",
    "\n",
    "salary_data.sample(5, with_replacement=False)"
   ]
  },
  {
   "cell_type": "markdown",
   "id": "daa2ce71",
   "metadata": {},
   "source": [
    "**Question 3.2** Produce a simple random sample **without** replacement of size **44** from `full_data`. Then, run your analysis on it again by using the `compute_statistics` function.  Run the cell a few times to see how the histograms and statistics change across different samples.\n",
    "\n",
    "- How much does the average age change across samples? \n",
    "- What about average salary?\n",
    "\n",
    "(FYI: srs = simple random sample, wor = without replacement)"
   ]
  },
  {
   "cell_type": "markdown",
   "id": "8dee915b",
   "metadata": {},
   "source": [
    "The first simple random sample without replacement gave an average age of 26.2 and an average salary of 3,755,672.09. The second simple random sample without replacement gave an average age of 27.2 and an average salary of 4,779,650.48. The third simple random sample without replacement gave an average age of 26.6 and an average salary of 3,872,313.52. The average age does not change much over the three samples. It stayed around the 26 or 27 mark for the 3 samples. Similarly, the average salary stayed around the 4 million or 3 million mark."
   ]
  },
  {
   "cell_type": "markdown",
   "id": "f68a0933",
   "metadata": {},
   "source": [
    "<!-- BEGIN QUESTION -->\n",
    "\n"
   ]
  },
  {
   "cell_type": "code",
   "execution_count": 71,
   "id": "d58f0946",
   "metadata": {
    "execution": {
     "iopub.execute_input": "2022-02-21T23:19:51.156659Z",
     "iopub.status.busy": "2022-02-21T23:19:51.151599Z",
     "iopub.status.idle": "2022-02-21T23:19:51.693559Z",
     "shell.execute_reply": "2022-02-21T23:19:51.693073Z"
    },
    "tags": []
   },
   "outputs": [
    {
     "data": {
      "text/plain": [
       "array([  2.66818182e+01,   3.87231352e+06])"
      ]
     },
     "execution_count": 71,
     "metadata": {},
     "output_type": "execute_result"
    },
    {
     "data": {
      "image/png": "[encoded data removed]",
      "text/plain": [
       "<Figure size 600x400 with 1 Axes>"
      ]
     },
     "metadata": {},
     "output_type": "display_data"
    },
    {
     "data": {
      "image/png": "[encoded data removed]",
      "text/plain": [
       "<Figure size 600x400 with 1 Axes>"
      ]
     },
     "metadata": {},
     "output_type": "display_data"
    }
   ],
   "source": [
    "my_small_srswor_data = full_data.sample(44, with_replacement=False)\n",
    "my_small_stats = compute_statistics(my_small_srswor_data)\n",
    "my_small_stats\n",
    "\n",
    "#averageage\n",
    "#26.2045455\n",
    "#27.2272727\n",
    "#26.6818182\n",
    "\n",
    "#averagesalary\n",
    "#3,755,672.09\n",
    "#4,779,650.48\n",
    "#3,872,313.52"
   ]
  },
  {
   "cell_type": "markdown",
   "id": "309c7912",
   "metadata": {},
   "source": [
    "<!-- END QUESTION -->\n",
    "\n",
    "## 4. More Random Sampling Practice\n",
    "\n",
    "More practice for random sampling using `np.random.choice`."
   ]
  },
  {
   "cell_type": "markdown",
   "id": "b909bcc4",
   "metadata": {},
   "source": [
    "###  Simulations and For Loops (cont.)"
   ]
  },
  {
   "cell_type": "markdown",
   "id": "04f59d1a",
   "metadata": {},
   "source": [
    "**Question 4.1** We can use `np.random.choice` to simulate multiple trials.\n",
    "\n",
    "After finishing the Data 8 project, Stephanie decides to spend the rest of her night rolling a standard six-sided die. She wants to know what her total score would be if she rolled the die 1000 times. Write code that simulates her total score after 1000 rolls. \n",
    "\n",
    "*Hint:* First decide the possible values you can take in the experiment (point values in this case). Then use `np.random.choice` to simulate Stephanie’s rolls. Finally, sum up the rolls to get Stephanie's total score.\n"
   ]
  },
  {
   "cell_type": "code",
   "execution_count": 80,
   "id": "d9cd92a9",
   "metadata": {
    "execution": {
     "iopub.execute_input": "2022-02-21T23:19:51.698993Z",
     "iopub.status.busy": "2022-02-21T23:19:51.698520Z",
     "iopub.status.idle": "2022-02-21T23:19:51.701639Z",
     "shell.execute_reply": "2022-02-21T23:19:51.701295Z"
    },
    "tags": []
   },
   "outputs": [
    {
     "data": {
      "text/plain": [
       "3482"
      ]
     },
     "execution_count": 80,
     "metadata": {},
     "output_type": "execute_result"
    }
   ],
   "source": [
    "possible_point_values = np.arange(1,7) #array([1, 2, 3, 4, 5, 6])\n",
    "num_tosses = 1000\n",
    "total_score = 0\n",
    "\n",
    "for i in np.arange(0, num_tosses):\n",
    "    x = np.random.choice(possible_point_values)\n",
    "    total_score = total_score + x\n",
    "total_score"
   ]
  },
  {
   "cell_type": "code",
   "execution_count": 81,
   "id": "e813ca29",
   "metadata": {
    "deletable": false,
    "editable": false
   },
   "outputs": [
    {
     "data": {
      "text/html": [
       "<p><strong><pre style='display: inline;'>q41</pre></strong> passed! 🚀</p>"
      ],
      "text/plain": [
       "q41 results: All test cases passed!"
      ]
     },
     "execution_count": 81,
     "metadata": {},
     "output_type": "execute_result"
    }
   ],
   "source": [
    "grader.check(\"q41\")"
   ]
  },
  {
   "cell_type": "markdown",
   "id": "34cb23fb",
   "metadata": {},
   "source": [
    "### Simple random sampling (cont.)"
   ]
  },
  {
   "cell_type": "markdown",
   "id": "4642c532",
   "metadata": {},
   "source": [
    "**Question 4.2** As in the previous question, analyze several simple random samples of size 100 from `full_data` by using the `compute_statistics` function.  \n",
    "- Do the histogram shapes seem to change more or less across samples of 100 than across samples of size 44?  \n",
    "- Are the sample averages and histograms closer to their true values/shape for age or for salary?  What did you expect to see?"
   ]
  },
  {
   "cell_type": "markdown",
   "id": "fb3f1e7b",
   "metadata": {},
   "source": [
    "Larger samples tend to be more accurate compared to smaller samples because they are closer to the population being studied. The histograms change less across the sample with 100 trials. The averages in the larger sample, also, seem like they are getting closer to a specific average. This makes sense because more data should emphasize the conclusions of the data."
   ]
  },
  {
   "cell_type": "markdown",
   "id": "ef3b77a4",
   "metadata": {},
   "source": [
    "<!-- BEGIN QUESTION -->\n",
    "\n"
   ]
  },
  {
   "cell_type": "code",
   "execution_count": 85,
   "id": "1cfa73a6",
   "metadata": {
    "execution": {
     "iopub.execute_input": "2022-02-21T23:19:51.805810Z",
     "iopub.status.busy": "2022-02-21T23:19:51.798821Z",
     "iopub.status.idle": "2022-02-21T23:19:52.245252Z",
     "shell.execute_reply": "2022-02-21T23:19:52.244612Z"
    },
    "tags": []
   },
   "outputs": [
    {
     "data": {
      "text/plain": [
       "array([  2.56900000e+01,   3.47136214e+06])"
      ]
     },
     "execution_count": 85,
     "metadata": {},
     "output_type": "execute_result"
    },
    {
     "data": {
      "image/png": "[encoded data removed]",
      "text/plain": [
       "<Figure size 600x400 with 1 Axes>"
      ]
     },
     "metadata": {},
     "output_type": "display_data"
    },
    {
     "data": {
      "image/png": "[encoded data removed]",
      "text/plain": [
       "<Figure size 600x400 with 1 Axes>"
      ]
     },
     "metadata": {},
     "output_type": "display_data"
    }
   ],
   "source": [
    "my_large_srswor_data = full_data.sample(100, with_replacement=False)\n",
    "my_large_stats = compute_statistics(my_large_srswor_data)\n",
    "my_large_stats\n",
    "\n",
    "#averageage\n",
    "#26.2900000\n",
    "#26.9100000\n",
    "#25.6900000\n",
    "\n",
    "#averagesalary\n",
    "#4,805,705.55\n",
    "#3,648,926.28\n",
    "#3,471,362.14\n"
   ]
  },
  {
   "cell_type": "markdown",
   "id": "7167307e",
   "metadata": {},
   "source": [
    "<!-- END QUESTION -->\n",
    "\n",
    "## 5. Submission\n",
    "<img src=\"luke_leia.jpg\" alt=\"drawing\" width=\"300\"/>\n",
    "\n",
    "Luke & Leia wants to congratulate you on finishing lab 5!\n",
    "\n",
    "<img src=\"luke.jpg\" alt=\"drawing\" width=\"300\"/>\n",
    "\n",
    "**Important submission steps:** \n",
    "1. Run the tests and verify that they all pass.\n",
    "2. Choose **Save Notebook** from the **File** menu, then **run the final cell**. \n",
    "3. Click the link to download the zip file.\n",
    "4. Then submit the zip file to the corresponding assignment according to your instructor's directions. \n",
    "\n",
    "**It is your responsibility to make sure your work is saved before running the last cell.**"
   ]
  },
  {
   "cell_type": "markdown",
   "id": "c43b6bd2",
   "metadata": {
    "deletable": false,
    "editable": false
   },
   "source": [
    "## Submission\n",
    "\n",
    "Make sure you have run all cells in your notebook in order before running the cell below, so that all images/graphs appear in the output. The cell below will generate a zip file for you to submit. **Please save before exporting!**"
   ]
  },
  {
   "cell_type": "code",
   "execution_count": null,
   "id": "39678bd2",
   "metadata": {
    "deletable": false,
    "editable": false
   },
   "outputs": [],
   "source": [
    "# Save your notebook first, then run this cell to export your submission.\n",
    "grader.export(pdf=False, run_tests=True)"
   ]
  },
  {
   "cell_type": "markdown",
   "id": "da6dcad6",
   "metadata": {},
   "source": [
    " "
   ]
  }
 ],
 "metadata": {
  "kernelspec": {
   "display_name": "Python 3 (ipykernel)",
   "language": "python",
   "name": "python3"
  },
  "language_info": {
   "codemirror_mode": {
    "name": "ipython",
    "version": 3
   },
   "file_extension": ".py",
   "mimetype": "text/x-python",
   "name": "python",
   "nbconvert_exporter": "python",
   "pygments_lexer": "ipython3",
   "version": "3.10.11"
  },
  "otter": {
   "OK_FORMAT": true,
   "tests": {
    "q11": {
     "name": "q11",
     "points": null,
     "suites": [
      {
       "cases": [
        {
         "code": ">>> number_cheese == 3\nTrue",
         "hidden": false,
         "locked": false
        }
       ],
       "scored": true,
       "setup": "",
       "teardown": "",
       "type": "doctest"
      }
     ]
    },
    "q12": {
     "name": "q12",
     "points": null,
     "suites": [
      {
       "cases": [
        {
         "code": ">>> say_please == 'More please'\nTrue",
         "hidden": false,
         "locked": false
        }
       ],
       "scored": true,
       "setup": "",
       "teardown": "",
       "type": "doctest"
      }
     ]
    },
    "q13": {
     "name": "q13",
     "points": null,
     "suites": [
      {
       "cases": [
        {
         "code": ">>> nacho_reaction('salsa')\n'Spicy!'",
         "hidden": false,
         "locked": false
        },
        {
         "code": ">>> nacho_reaction('cheese')\n'Cheesy!'",
         "hidden": false,
         "locked": false
        },
        {
         "code": ">>> nacho_reaction('both')\n'Wow!'",
         "hidden": false,
         "locked": false
        },
        {
         "code": ">>> nacho_reaction('neither')\n'Meh.'",
         "hidden": false,
         "locked": false
        }
       ],
       "scored": true,
       "setup": "",
       "teardown": "",
       "type": "doctest"
      }
     ]
    },
    "q14": {
     "name": "q14",
     "points": null,
     "suites": [
      {
       "cases": [
        {
         "code": ">>> # One or more of the reaction results could be incorrect\n>>> np.count_nonzero(ten_nachos_reactions.column('Reactions') == make_array('Meh.', 'Cheesy!', 'Wow!', 'Wow!', 'Cheesy!', 'Spicy!', 'Wow!', 'Meh.', 'Cheesy!', 'Wow!')) == 10\nTrue",
         "hidden": false,
         "locked": false
        }
       ],
       "scored": true,
       "setup": "",
       "teardown": "",
       "type": "doctest"
      }
     ]
    },
    "q15": {
     "name": "q15",
     "points": null,
     "suites": [
      {
       "cases": [
        {
         "code": ">>> 2 < number_wow_reactions < 6\nTrue",
         "hidden": false,
         "locked": false
        },
        {
         "code": ">>> # Incorrect value for number_wow_reactions\n>>> number_wow_reactions == 4\nTrue",
         "hidden": false,
         "locked": false
        }
       ],
       "scored": true,
       "setup": "",
       "teardown": "",
       "type": "doctest"
      }
     ]
    },
    "q21": {
     "name": "q21",
     "points": null,
     "suites": [
      {
       "cases": [
        {
         "code": ">>> longer_than_five == 35453\nTrue",
         "hidden": false,
         "locked": false
        }
       ],
       "scored": true,
       "setup": "",
       "teardown": "",
       "type": "doctest"
      }
     ]
    },
    "q22": {
     "name": "q22",
     "points": null,
     "suites": [
      {
       "cases": [
        {
         "code": ">>> 8100 <= num_different <= 9100\nTrue",
         "hidden": false,
         "locked": false
        }
       ],
       "scored": true,
       "setup": "",
       "teardown": "",
       "type": "doctest"
      }
     ]
    },
    "q31": {
     "name": "q31",
     "points": null,
     "suites": [
      {
       "cases": [
        {
         "code": ">>> stats = compute_statistics(full_data)\n>>> plt.close()\n>>> plt.close()\n>>> round(float(stats[0]), 2) == 26.54\nTrue",
         "hidden": false,
         "locked": false
        },
        {
         "code": ">>> stats = compute_statistics(full_data)\n>>> plt.close()\n>>> plt.close()\n>>> round(float(stats[1]), 2) == 4269775.77\nTrue",
         "hidden": false,
         "locked": false
        }
       ],
       "scored": true,
       "setup": "",
       "teardown": "",
       "type": "doctest"
      }
     ]
    },
    "q41": {
     "name": "q41",
     "points": null,
     "suites": [
      {
       "cases": [
        {
         "code": ">>> 3000 <= total_score <= 4000\nTrue",
         "hidden": false,
         "locked": false
        }
       ],
       "scored": true,
       "setup": "",
       "teardown": "",
       "type": "doctest"
      }
     ]
    }
   }
  }
 },
 "nbformat": 4,
 "nbformat_minor": 5
}
